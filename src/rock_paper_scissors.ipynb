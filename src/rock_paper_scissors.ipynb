{
 "cells": [
  {
   "cell_type": "code",
   "execution_count": 2,
   "id": "0010ca32",
   "metadata": {},
   "outputs": [
    {
     "name": "stdout",
     "output_type": "stream",
     "text": [
      "Type Rock/Paper/Scissors or q to Quitrock\n",
      "Computer picked  scissors.\n",
      "You Win!\n",
      "Type Rock/Paper/Scissors or q to Quitrock\n",
      "Computer picked  paper.\n",
      "You lost!\n",
      "Type Rock/Paper/Scissors or q to Quitrock\n",
      "Computer picked  rock.\n",
      "Draw!\n",
      "Type Rock/Paper/Scissors or q to Quitq\n",
      "Your wins!  1\n",
      "Computer Wins!  1\n",
      "GoodBye!\n"
     ]
    }
   ],
   "source": [
    "import random\n",
    "\n",
    "user_wins = 0\n",
    "computer_wins = 0\n",
    "\n",
    "options = [\"rock\",\"paper\",\"scissors\"]\n",
    "\n",
    "while True:\n",
    "    user_input = input(\"Type Rock/Paper/Scissors or q to Quit\").lower()\n",
    "    if user_input == \"q\":\n",
    "        break\n",
    "    \n",
    "    if user_input not in [\"rock\",\"paper\",\"scissors\"]:\n",
    "        continue\n",
    "        \n",
    "    random_number = random.randint(0,2)\n",
    "    \n",
    "    computer_pick = options[random_number]\n",
    "    \n",
    "    print(\"Computer picked \",computer_pick+\".\")\n",
    "    \n",
    "    if user_input == \"rock\" and computer_pick == \"scissors\":\n",
    "        print(\"You Win!\")\n",
    "        user_wins += 1\n",
    "        continue\n",
    "        \n",
    "    elif user_input == \"paper\" and computer_pick == \"rock\":\n",
    "        print(\"You Win!\")\n",
    "        user_wins += 1\n",
    "        continue\n",
    "        \n",
    "    elif user_input == \"scissors\" and computer_pick == \"paper\":\n",
    "        print(\"You Win!\")\n",
    "        user_wins += 1\n",
    "        continue\n",
    "    elif (user_input == \"rock\" and computer_pick == \"rock\")or(user_input == \"paper\" and computer_pick == \"paper\")or(user_input == \"scissors\" and computer_pick == \"scissors\"):\n",
    "        print(\"Draw!\")\n",
    "        continue\n",
    "    else:\n",
    "        print(\"You lost!\")\n",
    "        computer_wins += 1\n",
    "        continue\n",
    "    \n",
    "print(\"Your wins! \",user_wins)\n",
    "print(\"Computer Wins! \",computer_wins)\n",
    "print(\"GoodBye!\")"
   ]
  },
  {
   "cell_type": "code",
   "execution_count": null,
   "id": "9a035cf2",
   "metadata": {},
   "outputs": [],
   "source": []
  }
 ],
 "metadata": {
  "kernelspec": {
   "display_name": "Python 3 (ipykernel)",
   "language": "python",
   "name": "python3"
  },
  "language_info": {
   "codemirror_mode": {
    "name": "ipython",
    "version": 3
   },
   "file_extension": ".py",
   "mimetype": "text/x-python",
   "name": "python",
   "nbconvert_exporter": "python",
   "pygments_lexer": "ipython3",
   "version": "3.11.5"
  }
 },
 "nbformat": 4,
 "nbformat_minor": 5
}
